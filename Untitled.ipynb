{
 "cells": [
  {
   "cell_type": "code",
   "execution_count": null,
   "metadata": {},
   "outputs": [],
   "source": [
    "from model import SiameseNetwork"
   ]
  },
  {
   "cell_type": "code",
   "execution_count": null,
   "metadata": {},
   "outputs": [],
   "source": [
    "s = SiameseNetwork()"
   ]
  },
  {
   "cell_type": "code",
   "execution_count": null,
   "metadata": {},
   "outputs": [],
   "source": [
    "from PIL import Image\n",
    "import numpy as np\n",
    "import matplotlib.pyplot as plt\n",
    "import data_preprocessing as dp"
   ]
  },
  {
   "cell_type": "code",
   "execution_count": null,
   "metadata": {},
   "outputs": [],
   "source": [
    "img1 = dp.load_image('cfp-dataset/Data/Images/001/Frontal/01.jpg')\n",
    "img2 = dp.load_image('cfp-dataset/Data/Images/001/Frontal/02.jpg')\n",
    "img3 = dp.load_image('cfp-dataset/Data/Images/025/Frontal/01.jpg')"
   ]
  },
  {
   "cell_type": "code",
   "execution_count": null,
   "metadata": {},
   "outputs": [],
   "source": [
    "img4 = dp.load_image('demo/piatek.jpg')\n",
    "img5 = dp.load_image('demo/ronaldo1.jpg')\n",
    "img6 = dp.load_image('demo/ronaldo2.jpg')"
   ]
  },
  {
   "cell_type": "code",
   "execution_count": null,
   "metadata": {},
   "outputs": [],
   "source": [
    "plt.imshow(img1)"
   ]
  },
  {
   "cell_type": "code",
   "execution_count": null,
   "metadata": {},
   "outputs": [],
   "source": [
    "plt.imshow(img2)"
   ]
  },
  {
   "cell_type": "code",
   "execution_count": null,
   "metadata": {},
   "outputs": [],
   "source": [
    "plt.imshow(img3)"
   ]
  },
  {
   "cell_type": "code",
   "execution_count": null,
   "metadata": {},
   "outputs": [],
   "source": [
    "plt.imshow(img4)"
   ]
  },
  {
   "cell_type": "code",
   "execution_count": null,
   "metadata": {},
   "outputs": [],
   "source": [
    "plt.imshow(img5)"
   ]
  },
  {
   "cell_type": "code",
   "execution_count": null,
   "metadata": {},
   "outputs": [],
   "source": [
    "plt.imshow(img6)"
   ]
  },
  {
   "cell_type": "code",
   "execution_count": null,
   "metadata": {},
   "outputs": [],
   "source": [
    "s.predict([img1, img1, img3], [img2, img3, img2])"
   ]
  },
  {
   "cell_type": "code",
   "execution_count": null,
   "metadata": {},
   "outputs": [],
   "source": [
    "s.predict([img4, img5, img6], [img5, img6, img4])"
   ]
  },
  {
   "cell_type": "code",
   "execution_count": null,
   "metadata": {},
   "outputs": [],
   "source": [
    "img7 = dp.load_image('demo/salah.jpg')\n",
    "img8 = dp.load_image('demo/marcelo.jpg')\n",
    "img9 = dp.load_image('demo/de_bruyne.jpg')\n",
    "img10 = dp.load_image('demo/ficarra.jpg')\n",
    "img11 = dp.load_image('demo/mistico.jpg')\n",
    "img12 = dp.load_image('demo/gesu.jpg')"
   ]
  },
  {
   "cell_type": "code",
   "execution_count": null,
   "metadata": {},
   "outputs": [],
   "source": [
    "plt.imshow(img7)"
   ]
  },
  {
   "cell_type": "code",
   "execution_count": null,
   "metadata": {},
   "outputs": [],
   "source": [
    "plt.imshow(img8)"
   ]
  },
  {
   "cell_type": "code",
   "execution_count": null,
   "metadata": {},
   "outputs": [],
   "source": [
    "plt.imshow(img9)"
   ]
  },
  {
   "cell_type": "code",
   "execution_count": null,
   "metadata": {},
   "outputs": [],
   "source": [
    "plt.imshow(img10)"
   ]
  },
  {
   "cell_type": "code",
   "execution_count": null,
   "metadata": {},
   "outputs": [],
   "source": [
    "plt.imshow(img11)"
   ]
  },
  {
   "cell_type": "code",
   "execution_count": null,
   "metadata": {},
   "outputs": [],
   "source": [
    "plt.imshow(img12)"
   ]
  },
  {
   "cell_type": "code",
   "execution_count": null,
   "metadata": {},
   "outputs": [],
   "source": [
    "s.predict([img7, img7, img8, img10, img10, img10, img11, img11], [img8, img9, img9, img8, img7, img9, img12, img10])"
   ]
  },
  {
   "cell_type": "code",
   "execution_count": null,
   "metadata": {},
   "outputs": [],
   "source": [
    "GAR = {} #Genuine acceptance rate (TPR)\n",
    "FAR = {} #False acceptance (FPR)\n",
    "FRR = {} #False regectance rate (FNR)\n",
    "GRR = {} #Genuine regectance rate (TNR)"
   ]
  },
  {
   "cell_type": "code",
   "execution_count": 1,
   "metadata": {},
   "outputs": [],
   "source": [
    "import os\n",
    "import data_preprocessing as dp\n",
    "import tqdm\n",
    "import numpy as np"
   ]
  },
  {
   "cell_type": "code",
   "execution_count": 2,
   "metadata": {},
   "outputs": [],
   "source": [
    "data_dir = 'cfp-dataset/Data/Images'\n",
    "X = []\n",
    "Y = []\n",
    "category2index = {}\n",
    "index = 0\n",
    "for folder in os.listdir(data_dir):\n",
    "    if folder not in category2index:\n",
    "        category2index[folder] = index\n",
    "        index += 1\n",
    "    directory = os.path.join(data_dir, folder)\n",
    "    dir = os.path.join(directory, 'frontal')\n",
    "    for img in os.listdir(dir):\n",
    "        X.append(dp.load_image(os.path.join(dir, img)))\n",
    "        Y.append(category2index[folder])"
   ]
  },
  {
   "cell_type": "code",
   "execution_count": null,
   "metadata": {
    "scrolled": false
   },
   "outputs": [],
   "source": [
    "# 1 VS ALL\n",
    "TP, FP, FN, TN = 0, 0, 0, 0\n",
    "treshold_list = [0.00000025]\n",
    "for threshold in treshold_list:\n",
    "    for i, x in tqdm.tqdm(enumerate(X), total=len(X)):\n",
    "        if i < TP + FN:\n",
    "            continue\n",
    "        if i != 0 and i % 250 == 0:\n",
    "            print(\"Threshold:\", threshold)\n",
    "            print(\"TP:\", TP, \"FP:\", FP, \"FN:\", FN, \"TN:\", TN)\n",
    "            print(\"True Positive Rate:\", TP / i)\n",
    "            print(\"False Positive Rate:\", FP / (i * (len(Y) // 10 - 1)))\n",
    "            print(\"False Negative Rate:\", FN / i)\n",
    "            print(\"True Negative Rate:\", TN / (i * (len(Y) // 10 - 1)))\n",
    "        for category in range(0, len(Y), 10):\n",
    "            if not Y[i] == category // 10:\n",
    "                scores = s.predict([x * 10], X[category: category + 10])\n",
    "            else:\n",
    "                scores = s.predict([x * 9], X[category: i] + X[i + 1: category + 10])\n",
    "            max_val = np.max(scores)\n",
    "            if max_val >= threshold:\n",
    "                if Y[i] == category // 10:\n",
    "                    TP += 1\n",
    "                else:\n",
    "                    FP += 1\n",
    "            else:\n",
    "                if Y[i] == category // 10:\n",
    "                    FN += 1\n",
    "                else:\n",
    "                    TN += 1\n",
    "                    \n",
    "    GAR[threshold] = TP / len(X)\n",
    "    FAR[threshold] = FP / (len(X) * (len(Y) // 10 - 1))\n",
    "    FRR[threshold] = FN / len(X)\n",
    "    GRR[threshold] = TN / (len(X) * (len(Y) // 10 - 1))"
   ]
  },
  {
   "cell_type": "code",
   "execution_count": null,
   "metadata": {},
   "outputs": [],
   "source": [
    "print(TP, FP, FN, TN)\n",
    "print(TP / (TP + FN))\n",
    "print(FP / ((TP + FN) * (len(Y) // 10 - 1)))\n",
    "print(FN / (TP + FN))\n",
    "print(TN / ((TP + FN) * (len(Y) // 10 - 1)))\n",
    "TP, FP, FN, TN = 49, 18923, 3933, 1968841\n",
    "TP, FP, FN, TN = 144, 53320, 1356, 695180\n",
    "TP, FP, FN, TN = 209, 88644, 1791, 909356\n",
    "TP, FP, FN, TN = 307, 121620, 1193, 626880\n",
    "TP, FP, FN, TN = 705, 316760, 1795, 930740\n",
    "TP, FP, FN, TN = 608, 264199, 892, 484301\n",
    "TP, FP, FN, TN = 752, 337203, 748, 411297\n",
    "TP, FP, FN, TN = 864, 404224, 637, 344276\n",
    "TP, FP, FN, TN = 836, 384614, 664, 363886"
   ]
  },
  {
   "cell_type": "code",
   "execution_count": 3,
   "metadata": {},
   "outputs": [
    {
     "name": "stdout",
     "output_type": "stream",
     "text": [
      "\n",
      "Threshold: 5e-08\n",
      "TP: 864 FP: 404224 FN: 637 TN: 344276\n",
      "True Positive Rate: 0.5756162558294471\n",
      "False Positive Rate: 0.5396856337591907\n",
      "False Negative Rate: 0.42438374417055297\n",
      "True Negative Rate: 0.4596481437224883\n",
      "\n",
      "Threshold: 1e-07\n",
      "TP: 836 FP: 384614 FN: 664 TN: 363886\n",
      "True Positive Rate: 0.5573333333333333\n",
      "False Positive Rate: 0.5138463593854375\n",
      "False Negative Rate: 0.44266666666666665\n",
      "True Negative Rate: 0.48615364061456245\n",
      "\n",
      "Threshold: 5e-07\n",
      "TP: 752 FP: 337203 FN: 748 TN: 411297\n",
      "True Positive Rate: 0.5013333333333333\n",
      "False Positive Rate: 0.45050501002004006\n",
      "False Negative Rate: 0.49866666666666665\n",
      "True Negative Rate: 0.5494949899799599\n",
      "\n",
      "Threshold: 5e-06\n",
      "TP: 608 FP: 264199 FN: 892 TN: 484301\n",
      "True Positive Rate: 0.4053333333333333\n",
      "False Positive Rate: 0.3529712758851035\n",
      "False Negative Rate: 0.5946666666666667\n",
      "True Negative Rate: 0.6470287241148964\n",
      "\n",
      "Threshold: 5e-05\n",
      "TP: 705 FP: 316760 FN: 1795 TN: 930740\n",
      "True Positive Rate: 0.282\n",
      "False Positive Rate: 0.25391583166332665\n",
      "False Negative Rate: 0.718\n",
      "True Negative Rate: 0.7460841683366733\n",
      "\n",
      "Threshold: 0.0005\n",
      "TP: 307 FP: 121620 FN: 1193 TN: 626880\n",
      "True Positive Rate: 0.20466666666666666\n",
      "False Positive Rate: 0.16248496993987976\n",
      "False Negative Rate: 0.7953333333333333\n",
      "True Negative Rate: 0.8375150300601203\n",
      "\n",
      "Threshold: 0.005\n",
      "TP: 209 FP: 88644 FN: 1791 TN: 909356\n",
      "True Positive Rate: 0.1045\n",
      "False Positive Rate: 0.08882164328657315\n",
      "False Negative Rate: 0.8955\n",
      "True Negative Rate: 0.9111783567134268\n",
      "\n",
      "Threshold: 0.01\n",
      "TP: 144 FP: 53320 FN: 1356 TN: 695180\n",
      "True Positive Rate: 0.096\n",
      "False Positive Rate: 0.07123580494321977\n",
      "False Negative Rate: 0.904\n",
      "True Negative Rate: 0.9287641950567802\n",
      "\n",
      "Threshold: 0.5\n",
      "TP: 49 FP: 18923 FN: 3933 TN: 1968841\n",
      "True Positive Rate: 0.012305374183827222\n",
      "False Positive Rate: 0.009523315843137807\n",
      "False Negative Rate: 0.9876946258161727\n",
      "True Negative Rate: 0.9908521211181781\n"
     ]
    }
   ],
   "source": [
    "from collections import OrderedDict\n",
    "the_dict = {0.5: [49, 18923, 3933, 1968841], 0.01: [144, 53320, 1356, 695180], 0.005: [209, 88644, 1791, 909356], \n",
    "           0.0005: [307, 121620, 1193, 626880], 0.00005: [705, 316760, 1795, 930740], 0.000005: [608, 264199, 892, 484301], \n",
    "           0.0000005: [752, 337203, 748, 411297], 0.00000005: [864, 404224, 637, 344276], 0.0000001: [836, 384614, 664, 363886]}\n",
    "the_dict = OrderedDict(sorted(the_dict.items()))\n",
    "TPR = []\n",
    "FPR = []\n",
    "FNR = []\n",
    "TNR = []\n",
    "for key, values in the_dict.items():\n",
    "    print()\n",
    "    print(\"Threshold:\", key)\n",
    "    print(\"TP:\", values[0], \"FP:\", values[1], \"FN:\", values[2], \"TN:\", values[3])\n",
    "    print(\"True Positive Rate:\", values[0] / (values[0] + values[2]))\n",
    "    TPR.append(values[0] / (values[0] + values[2]))\n",
    "    print(\"False Positive Rate:\", values[1] / ((values[0] + values[2]) * (len(Y) // 10 - 1)))\n",
    "    FPR.append(values[1] / ((values[0] + values[2]) * (len(Y) // 10 - 1)))\n",
    "    print(\"False Negative Rate:\", values[2] / (values[0] + values[2]))\n",
    "    FNR.append(values[2] / (values[0] + values[2]))\n",
    "    print(\"True Negative Rate:\", values[3] / ((values[0] + values[2]) * (len(Y) // 10 - 1)))\n",
    "    TNR.append(values[3] / ((values[0] + values[2]) * (len(Y) // 10 - 1)))"
   ]
  },
  {
   "cell_type": "code",
   "execution_count": 4,
   "metadata": {},
   "outputs": [
    {
     "data": {
      "text/plain": [
       "<Figure size 640x480 with 1 Axes>"
      ]
     },
     "metadata": {},
     "output_type": "display_data"
    }
   ],
   "source": [
    "import matplotlib.pyplot as plt\n",
    "plt.title(\"Error Rates\")\n",
    "plt.plot(FPR, the_dict.keys(), \"r-\", label=\"False Positive Rate\")\n",
    "plt.plot(FNR, the_dict.keys(), \"o-\", label=\"False Negative Rate\")\n",
    "plt.xlabel(\"Threshold\")\n",
    "plt.ylabel(\"Probabilità di errore\")\n",
    "plt.legend()\n",
    "plt.show()\n",
    "plt.savefig(\"Error Rates.png\")"
   ]
  },
  {
   "cell_type": "code",
   "execution_count": null,
   "metadata": {},
   "outputs": [],
   "source": [
    "plt.title(\"TPR\")\n",
    "plt.plot(TPR, the_dict.keys())\n",
    "plt.xlabel(\"Threshold\")\n",
    "plt.ylabel(\"Probabilità\")\n",
    "plt.show()"
   ]
  },
  {
   "cell_type": "code",
   "execution_count": null,
   "metadata": {},
   "outputs": [],
   "source": [
    "plt.title(\"TNR\")\n",
    "plt.plot(TNR, the_dict.keys())\n",
    "plt.xlabel(\"Threshold\")\n",
    "plt.ylabel(\"Probabilità\")\n",
    "plt.show()"
   ]
  },
  {
   "cell_type": "code",
   "execution_count": null,
   "metadata": {},
   "outputs": [],
   "source": [
    "from collections import OrderedDict"
   ]
  },
  {
   "cell_type": "code",
   "execution_count": null,
   "metadata": {},
   "outputs": [],
   "source": [
    "#Identification openset\n",
    "treshold_list = [0.5]\n",
    "DIR = {}\n",
    "FAR = {} #False acceptance (FPR)\n",
    "FRR = {} #False regectance rate (FNR)\n",
    "GRR = {} #Genuine regectance rate (TNR)\n",
    "DI = {k: 0 for k in range(len(Y))}\n",
    "for threshold in treshold_list:\n",
    "    TP, FP, FN, TN = 0, 0, 0, 0\n",
    "    for i, x in tqdm.tqdm(enumerate(X), total=len(X)):\n",
    "        scores = {}\n",
    "        for k, sample in enumerate(X[0: i] + X[i + 1:]):\n",
    "            score = s.predict([x], [sample])\n",
    "            scores[k] = score\n",
    "            \n",
    "        scores = OrderedDict(sorted(scores.items()), key=lambda x: x[1])\n",
    "        for k, key in enumerate(scores):\n",
    "            if scores[key] >= threshold\n",
    "                if k == 0:\n",
    "                    if key // 10 == Y[i]:\n",
    "                        DI[0] += 1\n",
    "                else:\n",
    "                    if scores[key] >= threshold and key // 10 != Y[i]:\n",
    "                        FP += 1\n",
    "                        break\n",
    "                \n",
    "            \n",
    "             "
   ]
  },
  {
   "cell_type": "code",
   "execution_count": null,
   "metadata": {},
   "outputs": [],
   "source": []
  }
 ],
 "metadata": {
  "kernelspec": {
   "display_name": "Python 3",
   "language": "python",
   "name": "python3"
  },
  "language_info": {
   "codemirror_mode": {
    "name": "ipython",
    "version": 3
   },
   "file_extension": ".py",
   "mimetype": "text/x-python",
   "name": "python",
   "nbconvert_exporter": "python",
   "pygments_lexer": "ipython3",
   "version": "3.6.7"
  }
 },
 "nbformat": 4,
 "nbformat_minor": 2
}
