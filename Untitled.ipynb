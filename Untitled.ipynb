{
 "cells": [
  {
   "cell_type": "code",
   "execution_count": null,
   "metadata": {},
   "outputs": [],
   "source": [
    "import os\n",
    "import data_preprocessing as dp\n",
    "import tqdm\n",
    "import numpy as np"
   ]
  },
  {
   "cell_type": "code",
   "execution_count": null,
   "metadata": {},
   "outputs": [],
   "source": [
    "data_dir = 'cfp-dataset/Data/Images'\n",
    "tmp_dir = 'tmp'\n",
    "train_set, test_set = dp.load_dataset(tmp_dir, data_dir)\n",
    "del train_set\n",
    "X = []\n",
    "Y = []\n",
    "for _, cat in enumerate(test_set):\n",
    "    for img in cat:\n",
    "        X.append(img)\n",
    "        Y.append(_)\n",
    "del test_set"
   ]
  },
  {
   "cell_type": "code",
   "execution_count": null,
   "metadata": {},
   "outputs": [],
   "source": [
    "from model import SiameseNetwork"
   ]
  },
  {
   "cell_type": "code",
   "execution_count": null,
   "metadata": {},
   "outputs": [],
   "source": [
    "s = SiameseNetwork()"
   ]
  },
  {
   "cell_type": "code",
   "execution_count": null,
   "metadata": {},
   "outputs": [],
   "source": [
    "GAR = {} #Genuine acceptance rate (TPR)\n",
    "FAR = {} #False acceptance (FPR)\n",
    "FRR = {} #False regectance rate (FNR)\n",
    "GRR = {} #Genuine regectance rate (TNR)"
   ]
  },
  {
   "cell_type": "code",
   "execution_count": null,
   "metadata": {
    "scrolled": true
   },
   "outputs": [],
   "source": [
    "# 1 VS ALL\n",
    "os.path.exists(tmp_dir + '/rates.txt') and os.remove(tmp_dir + '/rates.txt')\n",
    "threshold_list = [1e-8, 3e-8, 5e-8, 7e-8, 9e-8, \n",
    "                  1e-7, 3e-7, 5e-7, 7e-7, 9e-7, \n",
    "                  1e-6, 3e-6, 5e-6, 7e-6, 9e-6, \n",
    "                  1e-5, 3e-5, 5e-5, 7e-5, 9e-5]\n",
    "for threshold in threshold_list:\n",
    "    print(\"Threshold:\", threshold)\n",
    "    TP, FP, FN, TN = 0, 0, 0, 0\n",
    "    for i, x in tqdm.tqdm(enumerate(X), total=len(X)):\n",
    "        if i != 0 and i % 250 == 0:\n",
    "            print(\"Threshold:\", threshold)\n",
    "            print(\"TP:\", TP, \"FP:\", FP, \"FN:\", FN, \"TN:\", TN)\n",
    "            print(\"True Positive Rate:\", TP / i)\n",
    "            print(\"False Positive Rate:\", FP / (i * (len(Y) // 3 - 1)))\n",
    "            print(\"False Negative Rate:\", FN / i)\n",
    "            print(\"True Negative Rate:\", TN / (i * (len(Y) // 3 - 1)))\n",
    "        for category in range(0, len(Y), 3):\n",
    "            if not Y[i] == category // 3:\n",
    "                scores = s.predict([x * 3], X[category: category + 3])\n",
    "            else:\n",
    "                scores = s.predict([x * 2], X[category: i] + X[i + 1: category + 3])\n",
    "            max_val = np.max(scores)\n",
    "            if max_val >= threshold:\n",
    "                if Y[i] == category // 3:\n",
    "                    TP += 1\n",
    "                else:\n",
    "                    FP += 1\n",
    "            else:\n",
    "                if Y[i] == category // 3:\n",
    "                    FN += 1\n",
    "                else:\n",
    "                    TN += 1\n",
    "    GAR[threshold] = TP / len(X)\n",
    "    FAR[threshold] = FP / (len(X) * (len(Y) // 3 - 1))\n",
    "    FRR[threshold] = FN / len(X)\n",
    "    GRR[threshold] = TN / (len(X) * (len(Y) // 3 - 1))\n",
    "    with open(tmp_dir + '/rates.txt', 'a', encoding='utf-8') as w:\n",
    "        w.write(str(threshold) + '\\n')\n",
    "        w.write(str(TP) + ' ' + str(FP) + ' ' + str(FN) + ' ' + str(TN) + '\\n')\n",
    "        w.write(str(GAR[threshold]) + '\\n')\n",
    "        w.write(str(FAR[threshold]) + '\\n')\n",
    "        w.write(str(FRR[threshold]) + '\\n')\n",
    "        w.write(str(GRR[threshold]) + '\\n\\n')"
   ]
  },
  {
   "cell_type": "code",
   "execution_count": 12,
   "metadata": {
    "scrolled": false
   },
   "outputs": [
    {
     "data": {
      "image/png": "[encoded data removed]",
      "text/plain": [
       "<Figure size 432x288 with 1 Axes>"
      ]
     },
     "metadata": {},
     "output_type": "display_data"
    }
   ],
   "source": [
    "import matplotlib.pyplot as plt\n",
    "tmp_dir = 'tmp'\n",
    "\n",
    "threshold = 0\n",
    "GAR = {} #Genuine acceptance rate (TPR)\n",
    "FAR = {} #False acceptance (FPR)\n",
    "FRR = {} #False regectance rate (FNR)\n",
    "GRR = {} #Genuine regectance rate (TNR)\n",
    "\n",
    "with open(tmp_dir + '/rates.txt', encoding='utf-8') as r:\n",
    "    for n, line in enumerate(r.readlines()):\n",
    "        line = line.strip()\n",
    "        if n%7 == 0:\n",
    "            threshold = float(line)\n",
    "        elif n%7 == 2:\n",
    "            GAR[threshold] = float(line)\n",
    "        elif n%7 == 3:\n",
    "            FAR[threshold] = float(line)\n",
    "        elif n%7 == 4:\n",
    "            FRR[threshold] = float(line)\n",
    "        elif n%7 == 5:\n",
    "            GRR[threshold] = float(line)\n",
    "plt.title(\"Error Rates\")\n",
    "plt.plot(FAR.keys(), FAR.values(), \"rd-\", label=\"False Positive Rate\")\n",
    "plt.plot(FRR.keys(), FRR.values(), \"bd-\", label=\"False Negative Rate\")\n",
    "plt.xlabel(\"Threshold\")\n",
    "plt.ylabel(\"Probabilità di errore\")\n",
    "plt.legend()\n",
    "plt.savefig(tmp_dir + \"/Error Rates.png\")\n",
    "plt.show()"
   ]
  },
  {
   "cell_type": "code",
   "execution_count": null,
   "metadata": {},
   "outputs": [],
   "source": [
    "plt.title(\"ROC\")\n",
    "plt.plot(FAR.values(), GAR.values(), \"r-\")\n",
    "plt.xlabel(\"FAR\")\n",
    "plt.ylabel(\"GAR\")\n",
    "plt.show()\n",
    "plt.savefig(tmp_dir + \"/ROC.png\")"
   ]
  },
  {
   "cell_type": "code",
   "execution_count": null,
   "metadata": {},
   "outputs": [],
   "source": [
    "plt.title(\"DET\")\n",
    "plt.plot(FAR.values(), FRR.values(), \"r-\")\n",
    "plt.xscale('log')\n",
    "plt.yscale('log')\n",
    "plt.xlabel(\"FAR\")\n",
    "plt.ylabel(\"FRR\")\n",
    "plt.show()\n",
    "plt.savefig(tmp_dir + \"/DET.png\")"
   ]
  },
  {
   "cell_type": "code",
   "execution_count": null,
   "metadata": {},
   "outputs": [],
   "source": []
  }
 ],
 "metadata": {
  "kernelspec": {
   "display_name": "Python 3",
   "language": "python",
   "name": "python3"
  },
  "language_info": {
   "codemirror_mode": {
    "name": "ipython",
    "version": 3
   },
   "file_extension": ".py",
   "mimetype": "text/x-python",
   "name": "python",
   "nbconvert_exporter": "python",
   "pygments_lexer": "ipython3",
   "version": "3.6.7"
  }
 },
 "nbformat": 4,
 "nbformat_minor": 2
}
