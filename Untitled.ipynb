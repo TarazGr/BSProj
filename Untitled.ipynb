{
 "cells": [
  {
   "cell_type": "code",
   "execution_count": null,
   "metadata": {},
   "outputs": [],
   "source": [
    "from model import SiameseNetwork"
   ]
  },
  {
   "cell_type": "code",
   "execution_count": null,
   "metadata": {},
   "outputs": [],
   "source": [
    "s = SiameseNetwork()"
   ]
  },
  {
   "cell_type": "code",
   "execution_count": null,
   "metadata": {},
   "outputs": [],
   "source": [
    "from PIL import Image\n",
    "import numpy as np\n",
    "import matplotlib.pyplot as plt\n",
    "import data_preprocessing as dp"
   ]
  },
  {
   "cell_type": "code",
   "execution_count": null,
   "metadata": {},
   "outputs": [],
   "source": [
    "img1 = dp.load_image('cfp-dataset/Data/Images/001/Frontal/01.jpg')\n",
    "img2 = dp.load_image('cfp-dataset/Data/Images/001/Frontal/02.jpg')\n",
    "img3 = dp.load_image('cfp-dataset/Data/Images/025/Frontal/01.jpg')"
   ]
  },
  {
   "cell_type": "code",
   "execution_count": null,
   "metadata": {},
   "outputs": [],
   "source": [
    "img4 = dp.load_image('demo/piatek.jpg')\n",
    "img5 = dp.load_image('demo/ronaldo1.jpg')\n",
    "img6 = dp.load_image('demo/ronaldo2.jpg')"
   ]
  },
  {
   "cell_type": "code",
   "execution_count": null,
   "metadata": {},
   "outputs": [],
   "source": [
    "plt.imshow(img1)"
   ]
  },
  {
   "cell_type": "code",
   "execution_count": null,
   "metadata": {},
   "outputs": [],
   "source": [
    "plt.imshow(img2)"
   ]
  },
  {
   "cell_type": "code",
   "execution_count": null,
   "metadata": {},
   "outputs": [],
   "source": [
    "plt.imshow(img3)"
   ]
  },
  {
   "cell_type": "code",
   "execution_count": null,
   "metadata": {},
   "outputs": [],
   "source": [
    "plt.imshow(img4)"
   ]
  },
  {
   "cell_type": "code",
   "execution_count": null,
   "metadata": {},
   "outputs": [],
   "source": [
    "plt.imshow(img5)"
   ]
  },
  {
   "cell_type": "code",
   "execution_count": null,
   "metadata": {},
   "outputs": [],
   "source": [
    "plt.imshow(img6)"
   ]
  },
  {
   "cell_type": "code",
   "execution_count": null,
   "metadata": {},
   "outputs": [],
   "source": [
    "s.predict([img1, img1, img3], [img2, img3, img2])"
   ]
  },
  {
   "cell_type": "code",
   "execution_count": null,
   "metadata": {},
   "outputs": [],
   "source": [
    "s.predict([img4, img5, img6], [img5, img6, img4])"
   ]
  },
  {
   "cell_type": "code",
   "execution_count": null,
   "metadata": {},
   "outputs": [],
   "source": [
    "img7 = dp.load_image('demo/salah.jpg')\n",
    "img8 = dp.load_image('demo/marcelo.jpg')\n",
    "img9 = dp.load_image('demo/de_bruyne.jpg')\n",
    "img10 = dp.load_image('demo/ficarra.jpg')\n",
    "img11 = dp.load_image('demo/mistico.jpg')\n",
    "img12 = dp.load_image('demo/gesu.jpg')"
   ]
  },
  {
   "cell_type": "code",
   "execution_count": null,
   "metadata": {},
   "outputs": [],
   "source": [
    "plt.imshow(img7)"
   ]
  },
  {
   "cell_type": "code",
   "execution_count": null,
   "metadata": {},
   "outputs": [],
   "source": [
    "plt.imshow(img8)"
   ]
  },
  {
   "cell_type": "code",
   "execution_count": null,
   "metadata": {},
   "outputs": [],
   "source": [
    "plt.imshow(img9)"
   ]
  },
  {
   "cell_type": "code",
   "execution_count": null,
   "metadata": {},
   "outputs": [],
   "source": [
    "plt.imshow(img10)"
   ]
  },
  {
   "cell_type": "code",
   "execution_count": null,
   "metadata": {},
   "outputs": [],
   "source": [
    "plt.imshow(img11)"
   ]
  },
  {
   "cell_type": "code",
   "execution_count": null,
   "metadata": {},
   "outputs": [],
   "source": [
    "plt.imshow(img12)"
   ]
  },
  {
   "cell_type": "code",
   "execution_count": null,
   "metadata": {},
   "outputs": [],
   "source": [
    "s.predict([img7, img7, img8, img10, img10, img10, img11, img11], [img8, img9, img9, img8, img7, img9, img12, img10])"
   ]
  },
  {
   "cell_type": "code",
   "execution_count": null,
   "metadata": {},
   "outputs": [],
   "source": [
    "GAR = {} #Genuine acceptance rate (TPR)\n",
    "FAR = {} #False acceptance (FPR)\n",
    "FRR = {} #False regectance rate (FNR)\n",
    "GRR = {} #Genuine regectance rate (TNR)"
   ]
  },
  {
   "cell_type": "code",
   "execution_count": null,
   "metadata": {},
   "outputs": [],
   "source": [
    "import os\n",
    "import data_preprocessing as dp\n",
    "import tqdm\n",
    "import numpy as np"
   ]
  },
  {
   "cell_type": "code",
   "execution_count": null,
   "metadata": {},
   "outputs": [],
   "source": [
    "data_dir = 'cfp-dataset/Data/Images'\n",
    "X = []\n",
    "Y = []\n",
    "category2index = {}\n",
    "index = 0\n",
    "for folder in os.listdir(data_dir):\n",
    "    if folder not in category2index:\n",
    "        category2index[folder] = index\n",
    "        index += 1\n",
    "    directory = os.path.join(data_dir, folder)\n",
    "    dir = os.path.join(directory, 'frontal')\n",
    "    for img in os.listdir(dir):\n",
    "        X.append(dp.load_image(os.path.join(dir, img)))\n",
    "        Y.append(category2index[folder])"
   ]
  },
  {
   "cell_type": "code",
   "execution_count": null,
   "metadata": {
    "scrolled": false
   },
   "outputs": [],
   "source": [
    "# 1 VS ALL\n",
    "TP, FP, FN, TN = 0, 0, 0, 0\n",
    "treshold_list = [0.00000025]\n",
    "for threshold in treshold_list:\n",
    "    for i, x in tqdm.tqdm(enumerate(X), total=len(X)):\n",
    "        if i < TP + FN:\n",
    "            continue\n",
    "        if i != 0 and i % 250 == 0:\n",
    "            print(\"Threshold:\", threshold)\n",
    "            print(\"TP:\", TP, \"FP:\", FP, \"FN:\", FN, \"TN:\", TN)\n",
    "            print(\"True Positive Rate:\", TP / i)\n",
    "            print(\"False Positive Rate:\", FP / (i * (len(Y) // 10 - 1)))\n",
    "            print(\"False Negative Rate:\", FN / i)\n",
    "            print(\"True Negative Rate:\", TN / (i * (len(Y) // 10 - 1)))\n",
    "        for category in range(0, len(Y), 10):\n",
    "            if not Y[i] == category // 10:\n",
    "                scores = s.predict([x * 10], X[category: category + 10])\n",
    "            else:\n",
    "                scores = s.predict([x * 9], X[category: i] + X[i + 1: category + 10])\n",
    "            max_val = np.max(scores)\n",
    "            if max_val >= threshold:\n",
    "                if Y[i] == category // 10:\n",
    "                    TP += 1\n",
    "                else:\n",
    "                    FP += 1\n",
    "            else:\n",
    "                if Y[i] == category // 10:\n",
    "                    FN += 1\n",
    "                else:\n",
    "                    TN += 1\n",
    "                    \n",
    "    GAR[threshold] = TP / len(X)\n",
    "    FAR[threshold] = FP / (len(X) * (len(Y) // 10 - 1))\n",
    "    FRR[threshold] = FN / len(X)\n",
    "    GRR[threshold] = TN / (len(X) * (len(Y) // 10 - 1))"
   ]
  },
  {
   "cell_type": "code",
   "execution_count": null,
   "metadata": {},
   "outputs": [],
   "source": [
    "print(TP, FP, FN, TN)\n",
    "print(TP / (TP + FN))\n",
    "print(FP / ((TP + FN) * (len(Y) // 10 - 1)))\n",
    "print(FN / (TP + FN))\n",
    "print(TN / ((TP + FN) * (len(Y) // 10 - 1)))\n",
    "TP, FP, FN, TN = 49, 18923, 3933, 1968841\n",
    "TP, FP, FN, TN = 144, 53320, 1356, 695180\n",
    "TP, FP, FN, TN = 209, 88644, 1791, 909356\n",
    "TP, FP, FN, TN = 307, 121620, 1193, 626880\n",
    "TP, FP, FN, TN = 705, 316760, 1795, 930740\n",
    "TP, FP, FN, TN = 608, 264199, 892, 484301\n",
    "TP, FP, FN, TN = 752, 337203, 748, 411297\n",
    "TP, FP, FN, TN = 864, 404224, 637, 344276\n",
    "TP, FP, FN, TN = 836, 384614, 664, 363886"
   ]
  },
  {
   "cell_type": "code",
   "execution_count": null,
   "metadata": {},
   "outputs": [],
   "source": [
    "from collections import OrderedDict\n",
    "the_dict = {0.5: [49, 18923, 3933, 1968841], 0.01: [144, 53320, 1356, 695180], 0.005: [209, 88644, 1791, 909356], \n",
    "           0.0005: [307, 121620, 1193, 626880], 0.00005: [705, 316760, 1795, 930740], 0.000005: [608, 264199, 892, 484301], \n",
    "           0.0000005: [752, 337203, 748, 411297], 0.00000005: [864, 404224, 637, 344276], 0.0000001: [836, 384614, 664, 363886]}\n",
    "the_dict = OrderedDict(sorted(the_dict.items()))\n",
    "FPR = []\n",
    "FNR = []\n",
    "for key, values in the_dict.items():\n",
    "    print(\"Threshold:\", key)\n",
    "    print(\"TP:\", values[0], \"FP:\", values[1], \"FN:\", values[2], \"TN:\", values[3])\n",
    "    print(\"True Positive Rate:\", values[0] / (values[0] + values[2]))\n",
    "    print(\"False Positive Rate:\", values[1] / ((values[0] + values[2]) * (len(Y) // 10 - 1)))\n",
    "    FPR.append(values[1] / ((values[0] + values[2]) * (len(Y) // 10 - 1)))\n",
    "    print(\"False Negative Rate:\", values[2] / (values[0] + values[2]))\n",
    "    FNR.append(values[2] / (values[0] + values[2]))\n",
    "    print(\"True Negative Rate:\", values[3] / ((values[0] + values[2]) * (len(Y) // 10 - 1)))"
   ]
  },
  {
   "cell_type": "code",
   "execution_count": null,
   "metadata": {},
   "outputs": [],
   "source": [
    "import matplotlib.pyplot as plt\n",
    "plt.plot(FPR, the_dict.keys(), \"rd-\", FNR, the_dict.keys(), \"bd-\")\n",
    "plt.xlabel(\"Threshold\")\n",
    "plt.ylabel(\"Probabilità di errore\")\n",
    "plt.legend([\"False Positive Rate\", \"False Negative Rate\"])\n",
    "plt.legend()\n",
    "plt.show()"
   ]
  },
  {
   "cell_type": "code",
   "execution_count": null,
   "metadata": {},
   "outputs": [],
   "source": [
    "from collections import OrderedDict"
   ]
  },
  {
   "cell_type": "code",
   "execution_count": null,
   "metadata": {},
   "outputs": [],
   "source": [
    "#Identification openset\n",
    "treshold_list = [0.5]\n",
    "DIR = {}\n",
    "FAR = {} #False acceptance (FPR)\n",
    "FRR = {} #False regectance rate (FNR)\n",
    "GRR = {} #Genuine regectance rate (TNR)\n",
    "DI = {k: 0 for k in range(len(Y))}\n",
    "for threshold in treshold_list:\n",
    "    TP, FP, FN, TN = 0, 0, 0, 0\n",
    "    for i, x in tqdm.tqdm(enumerate(X), total=len(X)):\n",
    "        scores = {}\n",
    "        for k, sample in enumerate(X[0: i] + X[i + 1:]):\n",
    "            score = s.predict([x], [sample])\n",
    "            scores[k] = score\n",
    "            \n",
    "        scores = OrderedDict(sorted(scores.items()), key=lambda x: x[1])\n",
    "        for k, key in enumerate(scores):\n",
    "            if scores[key] >= threshold\n",
    "                if k == 0:\n",
    "                    if key // 10 == Y[i]:\n",
    "                        DI[0] += 1\n",
    "                else:\n",
    "                    if scores[key] >= threshold and key // 10 != Y[i]:\n",
    "                        FP += 1\n",
    "                        break\n",
    "                \n",
    "            \n",
    "             "
   ]
  },
  {
   "cell_type": "code",
   "execution_count": null,
   "metadata": {},
   "outputs": [],
   "source": []
  }
 ],
 "metadata": {
  "kernelspec": {
   "display_name": "Python 3",
   "language": "python",
   "name": "python3"
  },
  "language_info": {
   "codemirror_mode": {
    "name": "ipython",
    "version": 3
   },
   "file_extension": ".py",
   "mimetype": "text/x-python",
   "name": "python",
   "nbconvert_exporter": "python",
   "pygments_lexer": "ipython3",
   "version": "3.6.7"
  }
 },
 "nbformat": 4,
 "nbformat_minor": 2
}
