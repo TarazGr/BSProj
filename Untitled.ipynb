{
 "cells": [
  {
   "cell_type": "code",
   "execution_count": null,
   "metadata": {},
   "outputs": [],
   "source": [
    "from model import SiameseNetwork"
   ]
  },
  {
   "cell_type": "code",
   "execution_count": null,
   "metadata": {},
   "outputs": [],
   "source": [
    "s = SiameseNetwork()"
   ]
  },
  {
   "cell_type": "code",
   "execution_count": null,
   "metadata": {},
   "outputs": [],
   "source": [
    "import os\n",
    "import data_preprocessing as dp\n",
    "import tqdm\n",
    "import numpy as np"
   ]
  },
  {
   "cell_type": "code",
   "execution_count": null,
   "metadata": {},
   "outputs": [],
   "source": [
    "data_dir = 'cfp-dataset/Data/Images'\n",
    "tmp_dir = 'tmp'\n",
    "train_set, test_set = dp.load_dataset(tmp_dir, data_dir)\n",
    "del train_set\n",
    "Y = []\n",
    "for _ in range(len(test_set)):\n",
    "    for i in range(len(test_set[_])):\n",
    "        Y.append(_)\n",
    "print(Y)"
   ]
  },
  {
   "cell_type": "code",
   "execution_count": null,
   "metadata": {},
   "outputs": [],
   "source": [
    "GAR = {} #Genuine acceptance rate (TPR)\n",
    "FAR = {} #False acceptance (FPR)\n",
    "FRR = {} #False regectance rate (FNR)\n",
    "GRR = {} #Genuine regectance rate (TNR)"
   ]
  },
  {
   "cell_type": "code",
   "execution_count": null,
   "metadata": {
    "scrolled": false
   },
   "outputs": [],
   "source": [
    "# 1 VS ALL\n",
    "treshold_list = [0.05, 0.1, 0.15, 0.2, 0.25, 0.3, 0.35, 0.4, 0.45, 0.5, 0.55, 0.6, 0.65, 0.7, 0.75, 0.8, 0.85, 0.9, 0.95]\n",
    "for threshold in treshold_list:\n",
    "    print(\"Threshold:\", threshold)\n",
    "    TP, FP, FN, TN = 0, 0, 0, 0\n",
    "    for i, x in tqdm.tqdm(enumerate(test_set), total=len(test_set)):\n",
    "        if i != 0 and i % 250 == 0:\n",
    "            print(\"Threshold:\", threshold)\n",
    "            print(\"TP:\", TP, \"FP:\", FP, \"FN:\", FN, \"TN:\", TN)\n",
    "            print(\"True Positive Rate:\", TP / i)\n",
    "            print(\"False Positive Rate:\", FP / (i * (len(Y) // 10 - 1)))\n",
    "            print(\"False Negative Rate:\", FN / i)\n",
    "            print(\"True Negative Rate:\", TN / (i * (len(Y) // 10 - 1)))\n",
    "        for category in range(0, len(Y), 3):\n",
    "            if not Y[i] == category // 3:\n",
    "                scores = s.predict([x * 3], X[category: category + 3])\n",
    "            else:\n",
    "                scores = s.predict([x * 2], X[category: i] + X[i + 1: category + 3])\n",
    "            max_val = np.max(scores)\n",
    "            if max_val >= threshold:\n",
    "                if Y[i] == category // 3:\n",
    "                    TP += 1\n",
    "                else:\n",
    "                    FP += 1\n",
    "            else:\n",
    "                if Y[i] == category // 3:\n",
    "                    FN += 1\n",
    "                else:\n",
    "                    TN += 1\n",
    "                    \n",
    "    GAR[threshold] = TP / len(X)\n",
    "    FAR[threshold] = FP / (len(X) * (len(Y) // 10 - 1))\n",
    "    FRR[threshold] = FN / len(X)\n",
    "    GRR[threshold] = TN / (len(X) * (len(Y) // 10 - 1))"
   ]
  },
  {
   "cell_type": "code",
   "execution_count": null,
   "metadata": {},
   "outputs": [],
   "source": [
    "FPR = []\n",
    "FNR = []\n",
    "for key, values in the_dict.items():\n",
    "    print()\n",
    "    print(\"Threshold:\", key)\n",
    "    print(\"TP:\", values[0], \"FP:\", values[1], \"FN:\", values[2], \"TN:\", values[3])\n",
    "    print(\"True Positive Rate:\", values[0] / (values[0] + values[2]))\n",
    "    print(\"False Positive Rate:\", values[1] / ((values[0] + values[2]) * (len(Y) // 10 - 1)))\n",
    "    FPR.append(values[1] / ((values[0] + values[2]) * (len(Y) // 10 - 1)))\n",
    "    print(\"False Negative Rate:\", values[2] / (values[0] + values[2]))\n",
    "    FNR.append(values[2] / (values[0] + values[2]))\n",
    "    print(\"True Negative Rate:\", values[3] / ((values[0] + values[2]) * (len(Y) // 10 - 1)))"
   ]
  },
  {
   "cell_type": "code",
   "execution_count": null,
   "metadata": {},
   "outputs": [],
   "source": [
    "import matplotlib.pyplot as plt\n",
    "plt.title(\"Error Rates\")\n",
    "plt.plot(the_dict.keys(), FPR, \"r-\", label=\"False Positive Rate\")\n",
    "plt.plot(the_dict.keys(), FNR, \"b-\", label=\"False Negative Rate\")\n",
    "plt.xlabel(\"Threshold\")\n",
    "plt.ylabel(\"Probabilità di errore\")\n",
    "plt.legend()\n",
    "plt.show()\n",
    "plt.savefig(\"Error Rates.png\")"
   ]
  },
  {
   "cell_type": "code",
   "execution_count": null,
   "metadata": {},
   "outputs": [],
   "source": []
  }
 ],
 "metadata": {
  "kernelspec": {
   "display_name": "Python 3",
   "language": "python",
   "name": "python3"
  },
  "language_info": {
   "codemirror_mode": {
    "name": "ipython",
    "version": 3
   },
   "file_extension": ".py",
   "mimetype": "text/x-python",
   "name": "python",
   "nbconvert_exporter": "python",
   "pygments_lexer": "ipython3",
   "version": "3.6.7"
  }
 },
 "nbformat": 4,
 "nbformat_minor": 2
}
