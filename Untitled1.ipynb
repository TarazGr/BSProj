{
 "cells": [
  {
   "cell_type": "code",
   "execution_count": 1,
   "metadata": {},
   "outputs": [],
   "source": [
    "import os\n",
    "import data_preprocessing as dp\n",
    "from model import SiameseNetwork\n",
    "import pickle\n",
    "import tqdm"
   ]
  },
  {
   "cell_type": "code",
   "execution_count": 2,
   "metadata": {},
   "outputs": [
    {
     "name": "stdout",
     "output_type": "stream",
     "text": [
      "Global iteration: 60000\n",
      "INFO:tensorflow:Restoring parameters from tmp\\model.ckpt\n",
      "Model restored\n"
     ]
    }
   ],
   "source": [
    "s = SiameseNetwork()"
   ]
  },
  {
   "cell_type": "code",
   "execution_count": 3,
   "metadata": {},
   "outputs": [
    {
     "name": "stderr",
     "output_type": "stream",
     "text": [
      "100%|████████████████████████████████████████████████████████████████████████████████| 500/500 [04:26<00:00,  2.06it/s]\n"
     ]
    }
   ],
   "source": [
    "data_dir = 'cfp-dataset/Data/Images'\n",
    "tmp_dir = 'tmp'\n",
    "embeddings = []\n",
    "for folder in tqdm.tqdm(os.listdir(data_dir), total=len(os.listdir(data_dir))):\n",
    "    embs = []\n",
    "    directory = os.path.join(data_dir, folder)\n",
    "    dir = os.path.join(directory, 'frontal')\n",
    "    for img in os.listdir(dir):\n",
    "        img = dp.load_image(os.path.join(dir, img))\n",
    "        embs.append(s.get_embeddings([img])[0])\n",
    "    embeddings.append(embs)\n",
    "pickle.dump(embeddings, open(tmp_dir + '/embeddings.pkl', 'wb'))"
   ]
  },
  {
   "cell_type": "code",
   "execution_count": null,
   "metadata": {},
   "outputs": [],
   "source": []
  },
  {
   "cell_type": "code",
   "execution_count": null,
   "metadata": {},
   "outputs": [],
   "source": []
  }
 ],
 "metadata": {
  "kernelspec": {
   "display_name": "Python 3",
   "language": "python",
   "name": "python3"
  },
  "language_info": {
   "codemirror_mode": {
    "name": "ipython",
    "version": 3
   },
   "file_extension": ".py",
   "mimetype": "text/x-python",
   "name": "python",
   "nbconvert_exporter": "python",
   "pygments_lexer": "ipython3",
   "version": "3.6.7"
  }
 },
 "nbformat": 4,
 "nbformat_minor": 2
}
